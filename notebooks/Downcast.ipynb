{
 "cells": [
  {
   "cell_type": "code",
   "execution_count": 1,
   "metadata": {},
   "outputs": [],
   "source": [
    "import numpy as np\n",
    "import pandas as pd\n",
    "\n",
    "filepath = 'data/Weather_Braga_WithRain_Until_20190228.csv'\n",
    "\n",
    "df = pd.read_csv(filepath, parse_dates=['sunrise', 'sunset', 'creation_date'])"
   ]
  },
  {
   "cell_type": "code",
   "execution_count": 2,
   "metadata": {},
   "outputs": [
    {
     "name": "stdout",
     "output_type": "stream",
     "text": [
      "<class 'pandas.core.frame.DataFrame'>\n",
      "RangeIndex: 4388 entries, 0 to 4387\n",
      "Data columns (total 9 columns):\n",
      "city_name        4388 non-null object\n",
      "cloudiness       3605 non-null object\n",
      "atmosphere       454 non-null object\n",
      "snow             0 non-null float64\n",
      "thunderstorm     15 non-null object\n",
      "rain             322 non-null object\n",
      "sunrise          4388 non-null datetime64[ns]\n",
      "sunset           4388 non-null datetime64[ns]\n",
      "creation_date    4388 non-null datetime64[ns]\n",
      "dtypes: datetime64[ns](3), float64(1), object(5)\n",
      "memory usage: 308.6+ KB\n"
     ]
    }
   ],
   "source": [
    "df.info()"
   ]
  },
  {
   "cell_type": "code",
   "execution_count": 3,
   "metadata": {},
   "outputs": [],
   "source": [
    "def typecast_objects(gl_obj):\n",
    "    gl_obj = gl_obj.apply(lambda x: x.str.strip())\n",
    "    gl_obj = gl_obj.apply(lambda x: x.str.lower())\n",
    "    \n",
    "    converted_obj = pd.DataFrame()\n",
    "    \n",
    "    for col in gl_obj.columns:\n",
    "        num_unique_values = len(gl_obj[col].unique())\n",
    "        num_total_values = len(gl_obj[col])\n",
    "        if num_unique_values / num_total_values < 0.5:\n",
    "            converted_obj.loc[:, col] = gl_obj[col].astype('category')\n",
    "        else:\n",
    "            converted_obj.loc[:, col] = gl_obj[col]\n",
    "    \n",
    "    return converted_obj\n",
    "\n",
    "\n",
    "def downcast(df):\n",
    "    df_int = df.select_dtypes(include=['int'])\n",
    "    converted_int = df_int.apply(pd.to_numeric, downcast='unsigned')\n",
    "    \n",
    "    df_float = df.select_dtypes(include=['float'])\n",
    "    converted_float = df_float.apply(pd.to_numeric, downcast='float')\n",
    "\n",
    "    df_obj = df.select_dtypes(include=['object'])\n",
    "    converted_obj = typecast_objects(df_obj)\n",
    "\n",
    "    df[converted_int.columns] = converted_int\n",
    "    df[converted_float.columns] = converted_float\n",
    "    df[converted_obj.columns] = converted_obj\n",
    "    \n",
    "    return df\n",
    "\n",
    "\n",
    "def get_dtypes(df):\n",
    "    dtypes = df.dtypes\n",
    "\n",
    "    colnames = dtypes.index\n",
    "    types = [i.name for i in dtypes.values]\n",
    "\n",
    "    return dict(zip(colnames, types))"
   ]
  },
  {
   "cell_type": "code",
   "execution_count": 4,
   "metadata": {},
   "outputs": [],
   "source": [
    "df = downcast(df)"
   ]
  },
  {
   "cell_type": "code",
   "execution_count": 5,
   "metadata": {},
   "outputs": [
    {
     "name": "stdout",
     "output_type": "stream",
     "text": [
      "<class 'pandas.core.frame.DataFrame'>\n",
      "RangeIndex: 4388 entries, 0 to 4387\n",
      "Data columns (total 9 columns):\n",
      "city_name        4388 non-null category\n",
      "cloudiness       3605 non-null category\n",
      "atmosphere       454 non-null category\n",
      "snow             0 non-null float32\n",
      "thunderstorm     15 non-null category\n",
      "rain             322 non-null category\n",
      "sunrise          4388 non-null datetime64[ns]\n",
      "sunset           4388 non-null datetime64[ns]\n",
      "creation_date    4388 non-null datetime64[ns]\n",
      "dtypes: category(5), datetime64[ns](3), float32(1)\n",
      "memory usage: 142.5 KB\n"
     ]
    }
   ],
   "source": [
    "df.info()"
   ]
  },
  {
   "cell_type": "code",
   "execution_count": 6,
   "metadata": {},
   "outputs": [
    {
     "data": {
      "text/plain": [
       "Index(['city_name', 'cloudiness', 'atmosphere', 'snow', 'thunderstorm', 'rain',\n",
       "       'sunrise', 'sunset', 'creation_date'],\n",
       "      dtype='object')"
      ]
     },
     "execution_count": 6,
     "metadata": {},
     "output_type": "execute_result"
    }
   ],
   "source": [
    "df.columns"
   ]
  },
  {
   "cell_type": "code",
   "execution_count": 7,
   "metadata": {},
   "outputs": [
    {
     "data": {
      "text/plain": [
       "{'city_name': 'category',\n",
       " 'cloudiness': 'category',\n",
       " 'atmosphere': 'category',\n",
       " 'snow': 'float32',\n",
       " 'thunderstorm': 'category',\n",
       " 'rain': 'category',\n",
       " 'sunrise': 'datetime64[ns]',\n",
       " 'sunset': 'datetime64[ns]',\n",
       " 'creation_date': 'datetime64[ns]'}"
      ]
     },
     "execution_count": 7,
     "metadata": {},
     "output_type": "execute_result"
    }
   ],
   "source": [
    "get_dtypes(df)"
   ]
  },
  {
   "cell_type": "code",
   "execution_count": 11,
   "metadata": {},
   "outputs": [
    {
     "data": {
      "text/html": [
       "<div>\n",
       "<style scoped>\n",
       "    .dataframe tbody tr th:only-of-type {\n",
       "        vertical-align: middle;\n",
       "    }\n",
       "\n",
       "    .dataframe tbody tr th {\n",
       "        vertical-align: top;\n",
       "    }\n",
       "\n",
       "    .dataframe thead th {\n",
       "        text-align: right;\n",
       "    }\n",
       "</style>\n",
       "<table border=\"1\" class=\"dataframe\">\n",
       "  <thead>\n",
       "    <tr style=\"text-align: right;\">\n",
       "      <th></th>\n",
       "      <th>city_name</th>\n",
       "      <th>cloudiness</th>\n",
       "      <th>atmosphere</th>\n",
       "      <th>thunderstorm</th>\n",
       "      <th>rain</th>\n",
       "    </tr>\n",
       "  </thead>\n",
       "  <tbody>\n",
       "    <tr>\n",
       "      <th>count</th>\n",
       "      <td>4388</td>\n",
       "      <td>3605</td>\n",
       "      <td>454</td>\n",
       "      <td>15</td>\n",
       "      <td>322</td>\n",
       "    </tr>\n",
       "    <tr>\n",
       "      <th>unique</th>\n",
       "      <td>1</td>\n",
       "      <td>7</td>\n",
       "      <td>3</td>\n",
       "      <td>3</td>\n",
       "      <td>8</td>\n",
       "    </tr>\n",
       "    <tr>\n",
       "      <th>top</th>\n",
       "      <td>braga</td>\n",
       "      <td>céu claro</td>\n",
       "      <td>névoa</td>\n",
       "      <td>trovoada com chuva leve</td>\n",
       "      <td>chuva fraca</td>\n",
       "    </tr>\n",
       "    <tr>\n",
       "      <th>freq</th>\n",
       "      <td>4388</td>\n",
       "      <td>2003</td>\n",
       "      <td>266</td>\n",
       "      <td>7</td>\n",
       "      <td>127</td>\n",
       "    </tr>\n",
       "  </tbody>\n",
       "</table>\n",
       "</div>"
      ],
      "text/plain": [
       "       city_name cloudiness atmosphere             thunderstorm         rain\n",
       "count       4388       3605        454                       15          322\n",
       "unique         1          7          3                        3            8\n",
       "top        braga  céu claro      névoa  trovoada com chuva leve  chuva fraca\n",
       "freq        4388       2003        266                        7          127"
      ]
     },
     "execution_count": 11,
     "metadata": {},
     "output_type": "execute_result"
    }
   ],
   "source": [
    "df.describe(include=['category'])"
   ]
  },
  {
   "cell_type": "code",
   "execution_count": null,
   "metadata": {},
   "outputs": [],
   "source": []
  }
 ],
 "metadata": {
  "kernelspec": {
   "display_name": "Python 3",
   "language": "python",
   "name": "python3"
  },
  "language_info": {
   "codemirror_mode": {
    "name": "ipython",
    "version": 3
   },
   "file_extension": ".py",
   "mimetype": "text/x-python",
   "name": "python",
   "nbconvert_exporter": "python",
   "pygments_lexer": "ipython3",
   "version": "3.7.3"
  }
 },
 "nbformat": 4,
 "nbformat_minor": 2
}
