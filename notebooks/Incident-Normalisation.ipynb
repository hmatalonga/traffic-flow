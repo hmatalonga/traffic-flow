{
 "cells": [
  {
   "cell_type": "markdown",
   "metadata": {},
   "source": [
    "<h2>Importar as bibliotecas</h2>"
   ]
  },
  {
   "cell_type": "code",
   "execution_count": 1,
   "metadata": {},
   "outputs": [],
   "source": [
    "import pandas as pd\n",
    "import numpy as np\n",
    "import xgboost\n",
    "import shap\n",
    "from sklearn.preprocessing import LabelEncoder, OneHotEncoder\n",
    "from sklearn.preprocessing import Imputer\n",
    "from sklearn.preprocessing import StandardScaler\n",
    "import matplotlib.pyplot as plt"
   ]
  },
  {
   "cell_type": "markdown",
   "metadata": {},
   "source": [
    "<h2>Conjunto de dados</h2>"
   ]
  },
  {
   "cell_type": "code",
   "execution_count": 2,
   "metadata": {},
   "outputs": [
    {
     "data": {
      "text/html": [
       "<div>\n",
       "<style scoped>\n",
       "    .dataframe tbody tr th:only-of-type {\n",
       "        vertical-align: middle;\n",
       "    }\n",
       "\n",
       "    .dataframe tbody tr th {\n",
       "        vertical-align: top;\n",
       "    }\n",
       "\n",
       "    .dataframe thead th {\n",
       "        text-align: right;\n",
       "    }\n",
       "</style>\n",
       "<table border=\"1\" class=\"dataframe\">\n",
       "  <thead>\n",
       "    <tr style=\"text-align: right;\">\n",
       "      <th></th>\n",
       "      <th>city_name</th>\n",
       "      <th>description</th>\n",
       "      <th>cause_of_incident</th>\n",
       "      <th>from_road</th>\n",
       "      <th>to_road</th>\n",
       "      <th>affected_roads</th>\n",
       "      <th>incident_category_desc</th>\n",
       "      <th>magnitude_of_delay_desc</th>\n",
       "      <th>length_in_meters</th>\n",
       "      <th>delay_in_seconds</th>\n",
       "      <th>incident_date</th>\n",
       "    </tr>\n",
       "  </thead>\n",
       "  <tbody>\n",
       "    <tr>\n",
       "      <th>0</th>\n",
       "      <td>Braga</td>\n",
       "      <td>stationary traffic</td>\n",
       "      <td>NaN</td>\n",
       "      <td>Braga-Circular (A11)</td>\n",
       "      <td>Celeirós (IP9) (A11)</td>\n",
       "      <td>A11</td>\n",
       "      <td>Jam</td>\n",
       "      <td>Major</td>\n",
       "      <td>583</td>\n",
       "      <td>123</td>\n",
       "      <td>2019-02-28 23:45:00.098000</td>\n",
       "    </tr>\n",
       "    <tr>\n",
       "      <th>1</th>\n",
       "      <td>Braga</td>\n",
       "      <td>closed</td>\n",
       "      <td>NaN</td>\n",
       "      <td>Avenida Doutor Francisco Salgado Zenha</td>\n",
       "      <td>Avenida Robert Smith</td>\n",
       "      <td>NaN</td>\n",
       "      <td>Road Closed</td>\n",
       "      <td>Undefined</td>\n",
       "      <td>60</td>\n",
       "      <td>0</td>\n",
       "      <td>2019-02-28 23:45:00.098000</td>\n",
       "    </tr>\n",
       "    <tr>\n",
       "      <th>2</th>\n",
       "      <td>Braga</td>\n",
       "      <td>stationary traffic</td>\n",
       "      <td>NaN</td>\n",
       "      <td>Braga-Circular (A11)</td>\n",
       "      <td>Celeirós (IP9) (A11)</td>\n",
       "      <td>A11</td>\n",
       "      <td>Jam</td>\n",
       "      <td>Major</td>\n",
       "      <td>662</td>\n",
       "      <td>191</td>\n",
       "      <td>2019-02-28 23:25:00.353000</td>\n",
       "    </tr>\n",
       "    <tr>\n",
       "      <th>3</th>\n",
       "      <td>Braga</td>\n",
       "      <td>closed</td>\n",
       "      <td>NaN</td>\n",
       "      <td>Avenida Doutor Francisco Salgado Zenha</td>\n",
       "      <td>Avenida Robert Smith</td>\n",
       "      <td>NaN</td>\n",
       "      <td>Road Closed</td>\n",
       "      <td>Undefined</td>\n",
       "      <td>60</td>\n",
       "      <td>0</td>\n",
       "      <td>2019-02-28 23:25:00.353000</td>\n",
       "    </tr>\n",
       "    <tr>\n",
       "      <th>4</th>\n",
       "      <td>Braga</td>\n",
       "      <td>slow traffic</td>\n",
       "      <td>NaN</td>\n",
       "      <td>Braga-Circular (A11)</td>\n",
       "      <td>Celeirós (IP9) (A11)</td>\n",
       "      <td>A11</td>\n",
       "      <td>Jam</td>\n",
       "      <td>Minor</td>\n",
       "      <td>662</td>\n",
       "      <td>26</td>\n",
       "      <td>2019-02-28 23:05:00.154000</td>\n",
       "    </tr>\n",
       "  </tbody>\n",
       "</table>\n",
       "</div>"
      ],
      "text/plain": [
       "  city_name         description cause_of_incident  \\\n",
       "0     Braga  stationary traffic               NaN   \n",
       "1     Braga              closed               NaN   \n",
       "2     Braga  stationary traffic               NaN   \n",
       "3     Braga              closed               NaN   \n",
       "4     Braga        slow traffic               NaN   \n",
       "\n",
       "                                from_road               to_road  \\\n",
       "0                    Braga-Circular (A11)  Celeirós (IP9) (A11)   \n",
       "1  Avenida Doutor Francisco Salgado Zenha  Avenida Robert Smith   \n",
       "2                    Braga-Circular (A11)  Celeirós (IP9) (A11)   \n",
       "3  Avenida Doutor Francisco Salgado Zenha  Avenida Robert Smith   \n",
       "4                    Braga-Circular (A11)  Celeirós (IP9) (A11)   \n",
       "\n",
       "  affected_roads incident_category_desc magnitude_of_delay_desc  \\\n",
       "0            A11                    Jam                   Major   \n",
       "1            NaN            Road Closed               Undefined   \n",
       "2            A11                    Jam                   Major   \n",
       "3            NaN            Road Closed               Undefined   \n",
       "4            A11                    Jam                   Minor   \n",
       "\n",
       "   length_in_meters  delay_in_seconds               incident_date  \n",
       "0               583               123  2019-02-28 23:45:00.098000  \n",
       "1                60                 0  2019-02-28 23:45:00.098000  \n",
       "2               662               191  2019-02-28 23:25:00.353000  \n",
       "3                60                 0  2019-02-28 23:25:00.353000  \n",
       "4               662                26  2019-02-28 23:05:00.154000  "
      ]
     },
     "execution_count": 2,
     "metadata": {},
     "output_type": "execute_result"
    }
   ],
   "source": [
    "dataset = pd.read_csv('Traffic_Incidents_Braga_Until_20190228.csv', na_values='NaN')\n",
    "\n",
    "dataset.head()"
   ]
  },
  {
   "cell_type": "markdown",
   "metadata": {},
   "source": [
    "<h2>Verificação dos valores em falta</h2>"
   ]
  },
  {
   "cell_type": "code",
   "execution_count": 3,
   "metadata": {},
   "outputs": [],
   "source": [
    "#dataset.isnull().sum()"
   ]
  },
  {
   "cell_type": "markdown",
   "metadata": {},
   "source": [
    "<h2>Tratamento dos valores em falta</h2>"
   ]
  },
  {
   "cell_type": "code",
   "execution_count": 4,
   "metadata": {},
   "outputs": [],
   "source": [
    "dataset[['cause_of_incident','affected_roads']] = dataset[['cause_of_incident','affected_roads']].fillna('None')"
   ]
  },
  {
   "cell_type": "markdown",
   "metadata": {},
   "source": [
    "<h2>Eliminação de colunas sem valor adicional</h2>"
   ]
  },
  {
   "cell_type": "code",
   "execution_count": 5,
   "metadata": {},
   "outputs": [
    {
     "data": {
      "text/html": [
       "<div>\n",
       "<style scoped>\n",
       "    .dataframe tbody tr th:only-of-type {\n",
       "        vertical-align: middle;\n",
       "    }\n",
       "\n",
       "    .dataframe tbody tr th {\n",
       "        vertical-align: top;\n",
       "    }\n",
       "\n",
       "    .dataframe thead th {\n",
       "        text-align: right;\n",
       "    }\n",
       "</style>\n",
       "<table border=\"1\" class=\"dataframe\">\n",
       "  <thead>\n",
       "    <tr style=\"text-align: right;\">\n",
       "      <th></th>\n",
       "      <th>description</th>\n",
       "      <th>cause_of_incident</th>\n",
       "      <th>incident_category_desc</th>\n",
       "      <th>magnitude_of_delay_desc</th>\n",
       "      <th>length_in_meters</th>\n",
       "      <th>delay_in_seconds</th>\n",
       "    </tr>\n",
       "  </thead>\n",
       "  <tbody>\n",
       "    <tr>\n",
       "      <th>0</th>\n",
       "      <td>stationary traffic</td>\n",
       "      <td>None</td>\n",
       "      <td>Jam</td>\n",
       "      <td>Major</td>\n",
       "      <td>583</td>\n",
       "      <td>123</td>\n",
       "    </tr>\n",
       "    <tr>\n",
       "      <th>1</th>\n",
       "      <td>closed</td>\n",
       "      <td>None</td>\n",
       "      <td>Road Closed</td>\n",
       "      <td>Undefined</td>\n",
       "      <td>60</td>\n",
       "      <td>0</td>\n",
       "    </tr>\n",
       "    <tr>\n",
       "      <th>2</th>\n",
       "      <td>stationary traffic</td>\n",
       "      <td>None</td>\n",
       "      <td>Jam</td>\n",
       "      <td>Major</td>\n",
       "      <td>662</td>\n",
       "      <td>191</td>\n",
       "    </tr>\n",
       "    <tr>\n",
       "      <th>3</th>\n",
       "      <td>closed</td>\n",
       "      <td>None</td>\n",
       "      <td>Road Closed</td>\n",
       "      <td>Undefined</td>\n",
       "      <td>60</td>\n",
       "      <td>0</td>\n",
       "    </tr>\n",
       "    <tr>\n",
       "      <th>4</th>\n",
       "      <td>slow traffic</td>\n",
       "      <td>None</td>\n",
       "      <td>Jam</td>\n",
       "      <td>Minor</td>\n",
       "      <td>662</td>\n",
       "      <td>26</td>\n",
       "    </tr>\n",
       "  </tbody>\n",
       "</table>\n",
       "</div>"
      ],
      "text/plain": [
       "          description cause_of_incident incident_category_desc  \\\n",
       "0  stationary traffic              None                    Jam   \n",
       "1              closed              None            Road Closed   \n",
       "2  stationary traffic              None                    Jam   \n",
       "3              closed              None            Road Closed   \n",
       "4        slow traffic              None                    Jam   \n",
       "\n",
       "  magnitude_of_delay_desc  length_in_meters  delay_in_seconds  \n",
       "0                   Major               583               123  \n",
       "1               Undefined                60                 0  \n",
       "2                   Major               662               191  \n",
       "3               Undefined                60                 0  \n",
       "4                   Minor               662                26  "
      ]
     },
     "execution_count": 5,
     "metadata": {},
     "output_type": "execute_result"
    }
   ],
   "source": [
    "dataset = dataset.drop(['city_name','from_road','to_road','affected_roads','incident_date'], axis = 1)\n",
    "dataset.head()"
   ]
  },
  {
   "cell_type": "markdown",
   "metadata": {},
   "source": [
    "<h2>Obter os valores</h2>"
   ]
  },
  {
   "cell_type": "code",
   "execution_count": 6,
   "metadata": {},
   "outputs": [],
   "source": [
    "X = dataset.iloc[:, :]"
   ]
  },
  {
   "cell_type": "markdown",
   "metadata": {},
   "source": [
    "<h2>Identificar as colunas categóricas</h2>"
   ]
  },
  {
   "cell_type": "code",
   "execution_count": 7,
   "metadata": {},
   "outputs": [],
   "source": [
    "categorical_feature_mask = X.dtypes==object\n",
    "\n",
    "categorical_cols = X.columns[categorical_feature_mask].tolist()"
   ]
  },
  {
   "cell_type": "markdown",
   "metadata": {},
   "source": [
    "<h2>Codificação das variáveis independentes categóricas</h2>"
   ]
  },
  {
   "cell_type": "code",
   "execution_count": 8,
   "metadata": {},
   "outputs": [
    {
     "name": "stderr",
     "output_type": "stream",
     "text": [
      "/anaconda3/lib/python3.6/site-packages/sklearn/preprocessing/_encoders.py:371: FutureWarning: The handling of integer data will change in version 0.22. Currently, the categories are determined based on the range [0, max(values)], while in the future they will be determined based on the unique values.\n",
      "If you want the future behaviour and silence this warning, you can specify \"categories='auto'\".\n",
      "In case you used a LabelEncoder before this OneHotEncoder to convert the categories to integers, then you can now use the OneHotEncoder directly.\n",
      "  warnings.warn(msg, FutureWarning)\n",
      "/anaconda3/lib/python3.6/site-packages/sklearn/preprocessing/_encoders.py:392: DeprecationWarning: The 'categorical_features' keyword is deprecated in version 0.20 and will be removed in 0.22. You can use the ColumnTransformer instead.\n",
      "  \"use the ColumnTransformer instead.\", DeprecationWarning)\n"
     ]
    },
    {
     "data": {
      "text/html": [
       "<div>\n",
       "<style scoped>\n",
       "    .dataframe tbody tr th:only-of-type {\n",
       "        vertical-align: middle;\n",
       "    }\n",
       "\n",
       "    .dataframe tbody tr th {\n",
       "        vertical-align: top;\n",
       "    }\n",
       "\n",
       "    .dataframe thead th {\n",
       "        text-align: right;\n",
       "    }\n",
       "</style>\n",
       "<table border=\"1\" class=\"dataframe\">\n",
       "  <thead>\n",
       "    <tr style=\"text-align: right;\">\n",
       "      <th></th>\n",
       "      <th>description</th>\n",
       "      <th>cause_of_incident</th>\n",
       "      <th>incident_category_desc</th>\n",
       "      <th>magnitude_of_delay_desc</th>\n",
       "      <th>length_in_meters</th>\n",
       "      <th>delay_in_seconds</th>\n",
       "    </tr>\n",
       "  </thead>\n",
       "  <tbody>\n",
       "    <tr>\n",
       "      <th>0</th>\n",
       "      <td>6</td>\n",
       "      <td>0</td>\n",
       "      <td>1</td>\n",
       "      <td>0</td>\n",
       "      <td>583</td>\n",
       "      <td>123</td>\n",
       "    </tr>\n",
       "    <tr>\n",
       "      <th>1</th>\n",
       "      <td>1</td>\n",
       "      <td>0</td>\n",
       "      <td>3</td>\n",
       "      <td>3</td>\n",
       "      <td>60</td>\n",
       "      <td>0</td>\n",
       "    </tr>\n",
       "    <tr>\n",
       "      <th>2</th>\n",
       "      <td>6</td>\n",
       "      <td>0</td>\n",
       "      <td>1</td>\n",
       "      <td>0</td>\n",
       "      <td>662</td>\n",
       "      <td>191</td>\n",
       "    </tr>\n",
       "    <tr>\n",
       "      <th>3</th>\n",
       "      <td>1</td>\n",
       "      <td>0</td>\n",
       "      <td>3</td>\n",
       "      <td>3</td>\n",
       "      <td>60</td>\n",
       "      <td>0</td>\n",
       "    </tr>\n",
       "    <tr>\n",
       "      <th>4</th>\n",
       "      <td>5</td>\n",
       "      <td>0</td>\n",
       "      <td>1</td>\n",
       "      <td>1</td>\n",
       "      <td>662</td>\n",
       "      <td>26</td>\n",
       "    </tr>\n",
       "  </tbody>\n",
       "</table>\n",
       "</div>"
      ],
      "text/plain": [
       "   description  cause_of_incident  incident_category_desc  \\\n",
       "0            6                  0                       1   \n",
       "1            1                  0                       3   \n",
       "2            6                  0                       1   \n",
       "3            1                  0                       3   \n",
       "4            5                  0                       1   \n",
       "\n",
       "   magnitude_of_delay_desc  length_in_meters  delay_in_seconds  \n",
       "0                        0               583               123  \n",
       "1                        3                60                 0  \n",
       "2                        0               662               191  \n",
       "3                        3                60                 0  \n",
       "4                        1               662                26  "
      ]
     },
     "execution_count": 8,
     "metadata": {},
     "output_type": "execute_result"
    }
   ],
   "source": [
    "labelEncoder = LabelEncoder()\n",
    "\n",
    "X[categorical_cols] = X[categorical_cols].apply(lambda col: labelEncoder.fit_transform(col))\n",
    "\n",
    "oneHotEncoder = OneHotEncoder(categorical_features = categorical_feature_mask, sparse=False )\n",
    "\n",
    "X_oneHotEncoder = oneHotEncoder.fit_transform(X)\n",
    "\n",
    "X.head()"
   ]
  },
  {
   "cell_type": "markdown",
   "metadata": {},
   "source": [
    "<h2>Feature Scaling</h2>"
   ]
  },
  {
   "cell_type": "code",
   "execution_count": 9,
   "metadata": {},
   "outputs": [
    {
     "name": "stderr",
     "output_type": "stream",
     "text": [
      "/anaconda3/lib/python3.6/site-packages/sklearn/preprocessing/data.py:645: DataConversionWarning: Data with input dtype int64 were all converted to float64 by StandardScaler.\n",
      "  return self.partial_fit(X, y)\n",
      "/anaconda3/lib/python3.6/site-packages/sklearn/base.py:464: DataConversionWarning: Data with input dtype int64 were all converted to float64 by StandardScaler.\n",
      "  return self.fit(X, **fit_params).transform(X)\n"
     ]
    },
    {
     "data": {
      "text/plain": [
       "array([[ 1.03454698, -0.02524751, -0.89435272, -1.16973962,  0.62749341,\n",
       "        -0.00979197],\n",
       "       [-1.03576071, -0.02524751,  1.09986431,  0.9861592 , -0.75935593,\n",
       "        -0.75995856],\n",
       "       [ 1.03454698, -0.02524751, -0.89435272, -1.16973962,  0.83697926,\n",
       "         0.40493428],\n",
       "       ...,\n",
       "       [-0.20763763, -0.02524751, -0.89435272,  0.26752626,  1.33550253,\n",
       "        -0.17446268],\n",
       "       [-0.20763763, -0.02524751, -0.89435272, -1.16973962, -0.2820464 ,\n",
       "        -0.42451821],\n",
       "       [ 1.03454698, -0.02524751, -0.89435272, -1.16973962, -0.38811519,\n",
       "         0.44152777]])"
      ]
     },
     "execution_count": 9,
     "metadata": {},
     "output_type": "execute_result"
    }
   ],
   "source": [
    "sc = StandardScaler()\n",
    "X = sc.fit_transform(X)\n",
    "X"
   ]
  },
  {
   "cell_type": "markdown",
   "metadata": {},
   "source": [
    "<h2>K-Means</h2>\n",
    "<p>Elbow method</p>"
   ]
  },
  {
   "cell_type": "code",
   "execution_count": 18,
   "metadata": {},
   "outputs": [
    {
     "data": {
      "image/png": "[encoded data removed]",
      "text/plain": [
       "<Figure size 432x288 with 1 Axes>"
      ]
     },
     "metadata": {
      "needs_background": "light"
     },
     "output_type": "display_data"
    }
   ],
   "source": [
    "from sklearn.cluster import KMeans\n",
    "new_X = X[:, [4,5]]\n",
    "wcss = []\n",
    "for i in range(1, 11):\n",
    "    kmeans = KMeans(n_clusters=i, init='k-means++', max_iter= 300, n_init= 10, random_state=0, n_jobs=-1)\n",
    "    kmeans.fit(new_X)\n",
    "    wcss.append(kmeans.inertia_)\n",
    "plt.plot(range(1, 11), wcss)\n",
    "plt.title(\"The elbow method\")\n",
    "plt.xlabel(\"Number of clusters\")\n",
    "plt.ylabel(\"WCSS\")\n",
    "plt.show()"
   ]
  },
  {
   "cell_type": "markdown",
   "metadata": {},
   "source": [
    "<h2>Aplicação do k-means ao conjunto de dados</h2>"
   ]
  },
  {
   "cell_type": "code",
   "execution_count": 19,
   "metadata": {},
   "outputs": [
    {
     "data": {
      "text/plain": [
       "array([3, 0, 3, ..., 2, 0, 3], dtype=int32)"
      ]
     },
     "execution_count": 19,
     "metadata": {},
     "output_type": "execute_result"
    }
   ],
   "source": [
    "kmeans = KMeans(n_clusters=4, init='k-means++', n_init=10, n_jobs=-1, random_state=0)\n",
    "y_kmeans = kmeans.fit_predict(new_X)\n",
    "y_kmeans #classificação dos clusters para cada registo do conjunto de dados"
   ]
  },
  {
   "cell_type": "markdown",
   "metadata": {},
   "source": [
    "<h2>Visualização dos clusters</h2>"
   ]
  },
  {
   "cell_type": "code",
   "execution_count": 20,
   "metadata": {},
   "outputs": [
    {
     "data": {
      "image/png": "[encoded data removed]",
      "text/plain": [
       "<Figure size 432x288 with 1 Axes>"
      ]
     },
     "metadata": {
      "needs_background": "light"
     },
     "output_type": "display_data"
    }
   ],
   "source": [
    "plt.scatter(new_X[y_kmeans == 0, 0], new_X[y_kmeans == 0, 1], s = 100, c = 'red', label='Cluster 1')\n",
    "plt.scatter(new_X[y_kmeans == 1, 0], new_X[y_kmeans == 1, 1], s = 100, c = 'blue', label='Cluster 2')\n",
    "plt.scatter(new_X[y_kmeans == 2, 0], new_X[y_kmeans == 2, 1], s = 100, c = 'green', label='Cluster 3')\n",
    "plt.scatter(new_X[y_kmeans == 3, 0], new_X[y_kmeans == 3, 1], s = 100, c = 'cyan', label='Cluster 4')\n",
    "plt.scatter(kmeans.cluster_centers_[:,0], kmeans.cluster_centers_[:,1], s = 300, c = 'yellow', label='Centroids')\n",
    "plt.title('Clusters of incidents')\n",
    "plt.xlabel('Length in meters')\n",
    "plt.ylabel('Delay in seconds')\n",
    "plt.legend()\n",
    "plt.show()"
   ]
  },
  {
   "cell_type": "code",
   "execution_count": null,
   "metadata": {},
   "outputs": [],
   "source": []
  }
 ],
 "metadata": {
  "kernelspec": {
   "display_name": "Python 3",
   "language": "python",
   "name": "python3"
  },
  "language_info": {
   "codemirror_mode": {
    "name": "ipython",
    "version": 3
   },
   "file_extension": ".py",
   "mimetype": "text/x-python",
   "name": "python",
   "nbconvert_exporter": "python",
   "pygments_lexer": "ipython3",
   "version": "3.7.3"
  }
 },
 "nbformat": 4,
 "nbformat_minor": 2
}
